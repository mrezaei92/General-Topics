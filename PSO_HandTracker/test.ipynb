{
 "cells": [
  {
   "cell_type": "code",
   "execution_count": 9,
   "metadata": {},
   "outputs": [],
   "source": [
    "import torch\n",
    "from manopth.manolayer import ManoLayer\n",
    "from manopth import demo\n",
    "import numpy as np\n",
    "import matplotlib.pyplot as plt\n",
    "\n",
    "from PSO import *\n",
    "\n",
    "from deodr.pytorch import CameraPytorch,Scene3DPytorch\n",
    "from deodr.pytorch import TriMeshPytorch as TriMesh\n",
    "\n",
    "def Generate_Random_hand(ncomps=6,center_idx=-1, use_pca=True,batch_size=1):\n",
    "    mano_layer = ManoLayer(mano_root='mano/models',side=\"right\",center_idx=center_idx, use_pca=use_pca, ncomps=ncomps)\n",
    "    random_shape = torch.rand(batch_size, 10)*2\n",
    "    random_pose = torch.rand(batch_size, ncomps + 3)\n",
    "    hand_verts, hand_joints = mano_layer(random_pose, random_shape)\n",
    "    return hand_verts,hand_joints,mano_layer.th_faces,random_pose,random_shape\n",
    "\n",
    "\n",
    "class GraphicsRenderer:\n",
    "    def __init__(self,height=480,width=640,intrinsic=np.array([[1, 0, 0. ], [0, 1, 0 ], [0, 0, 1.]]),\n",
    "        extrinsic=np.array([[ 1.,  0.,  0., -0.], [ 0., 1.,  0., -0.],[ 0.,  0., 1.,  0]])):\n",
    "        # this class, given a mesh, it renders it\n",
    "        self.intrinsic=intrinsic\n",
    "        self.extrinsic=extrinsic\n",
    "        self.width=width\n",
    "        self.height=height\n",
    "        self.camera=CameraPytorch(extrinsic=extrinsic,intrinsic=intrinsic,width=width,height=height,distortion=None)\n",
    "        self.scene = Scene3DPytorch()\n",
    "\n",
    "    def render(self,vertices,faces,max_depth=0,depth_scale = 1):\n",
    "        # vertices is torch.tensor of size (n,3), faces is a torch.tensor of size (m,3)\n",
    "        self.mesh = TriMesh(  faces.numpy().copy() )\n",
    "        self.scene.set_mesh(self.mesh)\n",
    "        self.scene.max_depth = max_depth\n",
    "        self.scene.set_background(np.full((self.height, self.width, 1), max_depth, dtype=np.float))\n",
    "        self.mesh.set_vertices(vertices.double())\n",
    "\n",
    "        depth = self.scene.render_depth(self.camera, width=self.width, height=self.height, depth_scale=depth_scale)\n",
    "        return depth\n",
    "\n",
    "    \n",
    "def Normalize(vertices,hand_joints,scale=0.6,translate=torch.tensor([0,0,1])):\n",
    "       # vertices is torch.tensor of size (n,3), faces is a torch.tensor of size (m,3)\n",
    "       # hand_joints is of shape (m,3)\n",
    "               \n",
    "        Mins=torch.min(vertices.double(),dim=0)[0];Mins[2]=Mins[2]-1\n",
    "        r=(torch.squeeze(vertices.double())-Mins)\n",
    "        verts=r*scale+translate\n",
    "               \n",
    "        joints=hand_joints.double()-Mins\n",
    "        joints=joints*scale+translate\n",
    "        \n",
    "        return verts,joints\n",
    "    \n",
    "def compute_center(img_inp,max_depth=0):\n",
    "    # img is a tensor of size (h,w)\n",
    "    img_inp=img_inp.squeeze()\n",
    "    X,Y=torch.where(img_inp!=max_depth)\n",
    "    X_mean=torch.mean(X.float())\n",
    "    Y_mean=torch.mean(Y.float())\n",
    "    return (X_mean,Y_mean)\n",
    "\n",
    "def compute_IOU(inp1,inp2,max_depth=-32):\n",
    "    # both are tensor of size (1,h,w)\n",
    "    rend1=inp1.clone();rend2=inp2.clone()\n",
    "    mask1=rend1!=max_depth\n",
    "    mask2=rend2!=max_depth\n",
    "    return torch.sum(torch.logical_and(mask1,mask2)).double()/torch.sum(torch.logical_or(mask1,mask2))"
   ]
  },
  {
   "cell_type": "code",
   "execution_count": 2,
   "metadata": {},
   "outputs": [],
   "source": [
    "# create the hand synthesizer\n",
    "max_depth=0\n",
    "global_scale=0.65\n",
    "renderer=GraphicsRenderer(height=128,width=128)"
   ]
  },
  {
   "cell_type": "code",
   "execution_count": 8,
   "metadata": {},
   "outputs": [
    {
     "data": {
      "text/plain": [
       "<matplotlib.collections.PathCollection at 0x7f4cd5f56d90>"
      ]
     },
     "execution_count": 8,
     "metadata": {},
     "output_type": "execute_result"
    },
    {
     "data": {
      "image/png": "[encoded data removed]",
      "text/plain": [
       "<Figure size 432x288 with 1 Axes>"
      ]
     },
     "metadata": {
      "needs_background": "light"
     },
     "output_type": "display_data"
    }
   ],
   "source": [
    "# randomly generate a hand and plot it, this will be the ground-truth for the optimization problem\n",
    "\n",
    "hand_verts,hand_joints,mano_faces,pp,sh=Generate_Random_hand()\n",
    "verts,joints=Normalize(hand_verts[0],hand_joints[0],translate=torch.tensor([10,20,1]),scale=global_scale)\n",
    "IMG=renderer.render(verts,mano_faces,max_depth=max_depth)\n",
    "\n",
    "xxx,yyy=compute_center(IMG,max_depth)\n",
    "plt.imshow(np.squeeze(IMG.detach()))\n",
    "plt.scatter(yyy,xxx,c=\"red\")\n"
   ]
  },
  {
   "cell_type": "code",
   "execution_count": 10,
   "metadata": {},
   "outputs": [],
   "source": [
    "ncomps=6\n",
    "mano_layer = ManoLayer(mano_root='mano/models',side=\"right\",center_idx=-1, use_pca=True, ncomps=ncomps)\n",
    "\n",
    "MSE=torch.nn.L1Loss()\n",
    "\n",
    "def cost(x):\n",
    "    \n",
    "    shape=sh\n",
    "    pose=torch.from_numpy(x[0,0:(ncomps + 3)].reshape(1,-1)).float()\n",
    "    trans=torch.from_numpy(x[0,(ncomps + 3):(ncomps + 3 +2)].reshape(1,-1)).float()\n",
    "    \n",
    "    hand_verts, hand_joints = mano_layer(pose, shape)\n",
    "    verts,joints=Normalize(hand_verts[0],hand_joints[0],translate=torch.tensor([trans[0,0],trans[0,1],0]),scale=global_scale)\n",
    "    img=renderer.render(verts,mano_faces,max_depth=max_depth)\n",
    "    \n",
    "    reconstruction_loss=MSE(IMG,img).numpy()\n",
    "    shape_loss=torch.norm(shape).item()\n",
    "    pose_loss=torch.norm(pose).item()\n",
    "    iou_loss=1-compute_IOU(img,IMG,max_depth).item()\n",
    "    loss= 4*iou_loss+reconstruction_loss+pose_loss\n",
    "    return loss\n",
    "\n",
    "\n",
    "dim=(ncomps+3 + 3) # dimension of each particle\n",
    "\n",
    "center_x,center_y=compute_center(IMG)\n",
    "nit=np.random.rand(1,dim);nit[0,-2]=center_x.numpy();nit[0,-1]=center_y.numpy(); # initialize particles\n",
    "\n",
    "Optimizer=PSO(num_dimensions=dim,lower_bound=-2,higher_bound=30,num_particles=128,ini=nit)\n"
   ]
  },
  {
   "cell_type": "code",
   "execution_count": 12,
   "metadata": {},
   "outputs": [
    {
     "name": "stdout",
     "output_type": "stream",
     "text": [
      "iter 0, best error= 16.264126997951315\n",
      "iter 1, best error= 9.656670347773685\n",
      "iter 2, best error= 9.656670347773685\n",
      "iter 3, best error= 9.324627055934883\n",
      "iter 4, best error= 7.99274863718351\n",
      "iter 5, best error= 7.99274863718351\n",
      "iter 6, best error= 7.99274863718351\n",
      "iter 7, best error= 7.99274863718351\n",
      "iter 8, best error= 7.972054743901783\n",
      "iter 9, best error= 7.839868019602491\n",
      "iter 10, best error= 7.362933466319116\n",
      "iter 11, best error= 6.96384443270011\n",
      "iter 12, best error= 6.96384443270011\n",
      "iter 13, best error= 6.96384443270011\n",
      "iter 14, best error= 6.925048648599025\n",
      "iter 15, best error= 6.923732032672449\n",
      "iter 16, best error= 6.891349708401343\n",
      "iter 17, best error= 6.880998329939749\n",
      "iter 18, best error= 6.855053440518354\n",
      "iter 19, best error= 6.855053440518354\n",
      "iter 20, best error= 6.855053440518354\n",
      "iter 21, best error= 6.855053440518354\n",
      "iter 22, best error= 6.855053440518354\n",
      "iter 23, best error= 6.855053440518354\n",
      "iter 24, best error= 6.855053440518354\n",
      "iter 25, best error= 6.855053440518354\n",
      "iter 26, best error= 6.855053440518354\n",
      "iter 27, best error= 6.855053440518354\n",
      "iter 28, best error= 6.840995337937448\n",
      "iter 29, best error= 6.779608987424282\n",
      "iter 30, best error= 6.779608987424282\n",
      "iter 31, best error= 6.756699524608921\n",
      "iter 32, best error= 6.746847438369103\n",
      "iter 33, best error= 6.7255540306277215\n",
      "iter 34, best error= 6.677146449289985\n",
      "iter 35, best error= 6.663271416148227\n",
      "iter 36, best error= 6.653985536044788\n",
      "iter 37, best error= 6.55353504977672\n",
      "iter 38, best error= 6.5520201809071\n",
      "iter 39, best error= 6.490133130975913\n",
      "iter 40, best error= 6.459085602102741\n",
      "iter 41, best error= 6.447225897955484\n",
      "iter 42, best error= 6.4184456090530055\n",
      "iter 43, best error= 6.291993391060826\n",
      "iter 44, best error= 6.272506800033163\n",
      "iter 45, best error= 6.205011228342288\n",
      "iter 46, best error= 6.205011228342288\n",
      "iter 47, best error= 6.199252603014422\n",
      "iter 48, best error= 6.196690564979116\n",
      "iter 49, best error= 6.186726854449591\n",
      "iter 50, best error= 6.186726854449591\n",
      "iter 51, best error= 6.183997428494033\n",
      "iter 52, best error= 6.180597926228524\n",
      "iter 53, best error= 6.174786392345801\n",
      "iter 54, best error= 6.174786392345801\n",
      "iter 55, best error= 6.1574409435956206\n",
      "iter 56, best error= 6.1574409435956206\n",
      "iter 57, best error= 6.139198155362491\n",
      "iter 58, best error= 6.123474178924948\n",
      "iter 59, best error= 6.085127206355875\n",
      "iter 60, best error= 6.080596317769883\n",
      "iter 61, best error= 6.072418340722723\n",
      "iter 62, best error= 6.070061682800354\n",
      "iter 63, best error= 6.065351392124122\n",
      "iter 64, best error= 6.008689370725087\n",
      "iter 65, best error= 5.999399868808833\n",
      "iter 66, best error= 5.990075756113048\n",
      "iter 67, best error= 5.966731701239782\n",
      "iter 68, best error= 5.921258888766957\n",
      "iter 69, best error= 5.907421884262448\n",
      "FINAL:\n",
      "[[ 0.29924724  0.78408405  0.85386066  0.56502061 -0.19546479  0.15743006\n",
      "   1.17657624 -0.48334562 -0.67700665  0.8098966  30.         30.        ]]\n",
      "5.907421884262448\n"
     ]
    }
   ],
   "source": [
    "Optimizer.optimize(cost,70)"
   ]
  },
  {
   "cell_type": "code",
   "execution_count": 19,
   "metadata": {},
   "outputs": [
    {
     "data": {
      "text/plain": [
       "<matplotlib.image.AxesImage at 0x7f4cd472be50>"
      ]
     },
     "execution_count": 19,
     "metadata": {},
     "output_type": "execute_result"
    },
    {
     "data": {
      "image/png": "[encoded data removed]",
      "text/plain": [
       "<Figure size 432x288 with 2 Axes>"
      ]
     },
     "metadata": {
      "needs_background": "light"
     },
     "output_type": "display_data"
    }
   ],
   "source": [
    "final_solution=Optimizer.pos_best_g\n",
    "pose=torch.from_numpy(final_solution[0,:(ncomps + 3)].reshape(1,-1)).float()\n",
    "trans=torch.from_numpy(final_solution[0,(ncomps + 3):(ncomps + 3 +2)].reshape(1,-1)).float()\n",
    "hand_verts, hand_joints = mano_layer(pose, sh)\n",
    "verts,joints=Normalize(hand_verts[0],hand_joints[0],translate=torch.tensor([trans[0,0],trans[0,1],0]),scale=global_scale)\n",
    "img=renderer.render(verts,mano_faces)\n",
    "\n",
    "plt.subplot(2,1,1)\n",
    "plt.title(\"Ground-Truth Image\")\n",
    "plt.imshow(np.squeeze(img).detach())\n",
    "plt.subplot(2,1,2)\n",
    "plt.imshow(np.squeeze(IMG.detach()))\n",
    "plt.title(\"Ground-Truth Image\")\n"
   ]
  },
  {
   "cell_type": "code",
   "execution_count": 17,
   "metadata": {},
   "outputs": [
    {
     "data": {
      "text/plain": [
       "torch.Size([128, 128, 1])"
      ]
     },
     "execution_count": 17,
     "metadata": {},
     "output_type": "execute_result"
    }
   ],
   "source": [
    "img.shape"
   ]
  },
  {
   "cell_type": "code",
   "execution_count": null,
   "metadata": {},
   "outputs": [],
   "source": []
  }
 ],
 "metadata": {
  "kernelspec": {
   "display_name": "pytorch3d",
   "language": "python",
   "name": "pytorch3d"
  },
  "language_info": {
   "codemirror_mode": {
    "name": "ipython",
    "version": 3
   },
   "file_extension": ".py",
   "mimetype": "text/x-python",
   "name": "python",
   "nbconvert_exporter": "python",
   "pygments_lexer": "ipython3",
   "version": "3.8.3"
  }
 },
 "nbformat": 4,
 "nbformat_minor": 4
}
